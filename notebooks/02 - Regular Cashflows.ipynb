{
 "cells": [
  {
   "cell_type": "markdown",
   "metadata": {},
   "source": [
    "# Setup"
   ]
  },
  {
   "cell_type": "code",
   "execution_count": null,
   "metadata": {},
   "outputs": [],
   "source": [
    "%load_ext autoreload\n",
    "%autoreload 2\n",
    "\n",
    "import sys\n",
    "\n",
    "sys.path.append('../src/')"
   ]
  },
  {
   "cell_type": "markdown",
   "metadata": {},
   "source": [
    "# Regular Cashflows\n",
    "\n",
    "## Import Packages"
   ]
  },
  {
   "cell_type": "code",
   "execution_count": null,
   "metadata": {},
   "outputs": [],
   "source": [
    "from interesting.cashflow import Cashflow\n",
    "from interesting.interest import YearlyCompoundInterestRate"
   ]
  },
  {
   "cell_type": "markdown",
   "metadata": {},
   "source": [
    "## Build a Cashflow"
   ]
  },
  {
   "cell_type": "code",
   "execution_count": null,
   "metadata": {},
   "outputs": [],
   "source": [
    "# A cashflow that pays monthly for 2 years\n",
    "freq='M'\n",
    "interest=YearlyCompoundInterestRate(0.06).convert_to_equivalent(freq)\n",
    "inflation=YearlyCompoundInterestRate(0.04).convert_to_equivalent(freq)\n",
    "start_date='2025-01-01'\n",
    "end_date='2027-01-01'\n",
    "initial_capital_pmt = 1000\n",
    "cashflow = Cashflow().from_regular_interest(\n",
    "    start_date=start_date,\n",
    "    end_date=end_date,\n",
    "    interest=interest,\n",
    "    freq=freq,\n",
    "    initial_capital_pmt=initial_capital_pmt,\n",
    "    final_capital_pmt=-initial_capital_pmt,\n",
    "    inflation=inflation)\n",
    "cashflow.data"
   ]
  },
  {
   "cell_type": "code",
   "execution_count": null,
   "metadata": {},
   "outputs": [],
   "source": [
    "# A cashflow that accumulates for 2 years\n",
    "interest=YearlyCompoundInterestRate(0.06)\n",
    "inflation=YearlyCompoundInterestRate(0.04)\n",
    "start_date='2025-01-01'\n",
    "end_date='2027-01-01'\n",
    "freq='F'\n",
    "initial_capital_pmt = 1000\n",
    "cashflow = Cashflow().from_regular_interest(\n",
    "    start_date=start_date,\n",
    "    end_date=end_date,\n",
    "    interest=interest,\n",
    "    freq=freq,\n",
    "    initial_capital_pmt=initial_capital_pmt,\n",
    "    final_capital_pmt=-initial_capital_pmt,\n",
    "    inflation=inflation)\n",
    "cashflow.data"
   ]
  },
  {
   "cell_type": "markdown",
   "metadata": {},
   "source": [
    "# Pension"
   ]
  },
  {
   "cell_type": "code",
   "execution_count": null,
   "metadata": {},
   "outputs": [],
   "source": [
    "# xxx build from fixed pmts\n",
    "interest=YearlyCompoundInterestRate(0.04).convert_to_equivalent(\"M\")\n",
    "\n",
    "pension_cashflow = Cashflow.from_regular_pmt(pmt_amount=3000,\n",
    "            freq=\"M\",\n",
    "            initial_capital_pmt=0,\n",
    "            final_capital_pmt=0,\n",
    "            start_date='2025-01-31',\n",
    "            end_date='2055-01-31')\n",
    "\n",
    "pension_cashflow.discount_from_constant_rate(target=\"brutto\", interest=interest)\n",
    "pension_cashflow.print_npv_and_irr(target=\"brutto\")"
   ]
  }
 ],
 "metadata": {
  "kernelspec": {
   "displayname": "Python 3",
   "language": "python",
   "name": "python3"
  },
  "language_info": {
   "codemirror_mode": {
    "name": "ipython",
    "version": 3
   },
   "file_extension": ".py",
   "mimetype": "text/x-python",
   "name": "python",
   "nbconvert_exporter": "python",
   "pygments_lexer": "ipython3",
   "version": "3.12.1"
  }
 },
 "nbformat": 4,
 "nbformat_minor": 2
}
