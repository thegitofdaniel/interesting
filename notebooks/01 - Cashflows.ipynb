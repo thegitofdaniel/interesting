{
 "cells": [
  {
   "cell_type": "markdown",
   "metadata": {},
   "source": [
    "# Setup"
   ]
  },
  {
   "cell_type": "code",
   "execution_count": null,
   "metadata": {},
   "outputs": [],
   "source": [
    "%load_ext autoreload\n",
    "%autoreload 2\n",
    "\n",
    "import sys\n",
    "\n",
    "sys.path.append('../src/')"
   ]
  },
  {
   "cell_type": "markdown",
   "metadata": {},
   "source": [
    "# Cashflows\n",
    "## Import Packages"
   ]
  },
  {
   "cell_type": "code",
   "execution_count": null,
   "metadata": {},
   "outputs": [],
   "source": [
    "import pandas as pd\n",
    "from data.data import flow_data_1, flow_data_2\n",
    "from interesting.cashflow import Cashflow\n",
    "from interesting.interest import CompoundInterestRate, YearlyCompoundInterestRate"
   ]
  },
  {
   "cell_type": "markdown",
   "metadata": {},
   "source": [
    "## Build a Cashflow\n",
    "### From Json"
   ]
  },
  {
   "cell_type": "code",
   "execution_count": null,
   "metadata": {},
   "outputs": [],
   "source": [
    "cashflow1 = Cashflow().from_json(flow_data_1)\n",
    "cashflow1.plot_arrow(targets=[\"brutto\"])"
   ]
  },
  {
   "cell_type": "markdown",
   "metadata": {},
   "source": [
    "### From Pandas DataFrame"
   ]
  },
  {
   "cell_type": "code",
   "execution_count": null,
   "metadata": {},
   "outputs": [],
   "source": [
    "cashflow2 = Cashflow().from_pandas(pd.DataFrame(flow_data_2))\n",
    "cashflow2.plot_arrow(targets=[\"brutto\"])"
   ]
  },
  {
   "cell_type": "markdown",
   "metadata": {},
   "source": [
    "# Get information"
   ]
  },
  {
   "cell_type": "code",
   "execution_count": null,
   "metadata": {},
   "outputs": [],
   "source": [
    "print(f\"dates: {cashflow1.get_dates()}\")\n",
    "print(f\"columns: {cashflow1.get_cols()}\")\n",
    "print(f\"point: {cashflow1.get_point((\"2026-12-31\", \"brutto\"))}\")"
   ]
  },
  {
   "cell_type": "markdown",
   "metadata": {},
   "source": [
    "## Add Cashflows"
   ]
  },
  {
   "cell_type": "code",
   "execution_count": null,
   "metadata": {},
   "outputs": [],
   "source": [
    "combined_cashflow = cashflow1 + cashflow2\n",
    "\n",
    "print(combined_cashflow)\n",
    "combined_cashflow.plot_arrow(targets=[\"brutto\"])"
   ]
  },
  {
   "cell_type": "markdown",
   "metadata": {},
   "source": [
    "# Interest Rates\n",
    "## Definition"
   ]
  },
  {
   "cell_type": "code",
   "execution_count": null,
   "metadata": {},
   "outputs": [],
   "source": [
    "r = CompoundInterestRate(0.05, freq=\"Y\")\n",
    "r_yearly = YearlyCompoundInterestRate(0.05)\n",
    "\n",
    "print(r == r_yearly)"
   ]
  },
  {
   "cell_type": "markdown",
   "metadata": {},
   "source": [
    "## Equivalent rates"
   ]
  },
  {
   "cell_type": "code",
   "execution_count": null,
   "metadata": {},
   "outputs": [],
   "source": [
    "# Equivalent rates\n",
    "r_monthly = CompoundInterestRate(0.015, freq=\"M\")\n",
    "\n",
    "print((1 + r_monthly.value)**12-1)\n",
    "\n",
    "r_yearly_equivalent = r_monthly.convert_to_equivalent(new_freq=\"Y\")\n",
    "print(r_yearly_equivalent)\n",
    "\n",
    "# Attention!\n",
    "print(r_yearly_equivalent==r_monthly)"
   ]
  },
  {
   "cell_type": "markdown",
   "metadata": {},
   "source": [
    "# Tax"
   ]
  },
  {
   "cell_type": "code",
   "execution_count": null,
   "metadata": {},
   "outputs": [],
   "source": [
    "cashflow1.tax()\n",
    "cashflow1.data"
   ]
  },
  {
   "cell_type": "markdown",
   "metadata": {},
   "source": [
    "# Valuation"
   ]
  },
  {
   "cell_type": "code",
   "execution_count": null,
   "metadata": {},
   "outputs": [],
   "source": [
    "cashflow1.discount_from_constant_rate(target=\"netto\", interest=r_yearly)\n",
    "cashflow1.data"
   ]
  },
  {
   "cell_type": "code",
   "execution_count": null,
   "metadata": {},
   "outputs": [],
   "source": [
    "cashflow1.print_npv_and_irr(target=\"netto\")"
   ]
  },
  {
   "cell_type": "markdown",
   "metadata": {},
   "source": [
    "# Pension"
   ]
  },
  {
   "cell_type": "code",
   "execution_count": null,
   "metadata": {},
   "outputs": [],
   "source": [
    "# How many months will I be in pension? (30 years = 360 months)\n",
    "n_months = 12*30\n",
    "# How much money do I want each month?\n",
    "pension_monthly_salary = 3000\n",
    "# At which rate is the money pot reinvested?\n",
    "df = pd.DataFrame()\n",
    "df[\"date\"] = pd.date_range(start=\"2025-01-31\", periods=n_months+1, freq=\"ME\")\n",
    "df[\"brutto\"] = [0] + [pension_monthly_salary]*n_months\n",
    "# market interest rate of 5%/year-> discount rate\n",
    "r_monthly = YearlyCompoundInterestRate(0.04).convert_to_equivalent(new_freq=\"M\")\n",
    "\n",
    "\n",
    "# initialize cashflow\n",
    "pension_cashflow = Cashflow().from_pandas(df)\n",
    "pension_cashflow = pension_cashflow.discount_from_constant_rate(interest=r_monthly, target=\"brutto\")\n",
    "\n",
    "# I need 636k to retire with a 3000 salary for 30 years (reinvesting at 4% yearly rate)\n",
    "pension_cashflow.npv(target=\"brutto\")"
   ]
  },
  {
   "cell_type": "code",
   "execution_count": null,
   "metadata": {},
   "outputs": [],
   "source": [
    "pension_cashflow.data"
   ]
  }
 ],
 "metadata": {
  "kernelspec": {
   "displayname": "Python 3",
   "language": "python",
   "name": "python3"
  },
  "language_info": {
   "codemirror_mode": {
    "name": "ipython",
    "version": 3
   },
   "file_extension": ".py",
   "mimetype": "text/x-python",
   "name": "python",
   "nbconvert_exporter": "python",
   "pygments_lexer": "ipython3",
   "version": "3.12.1"
  }
 },
 "nbformat": 4,
 "nbformat_minor": 2
}
