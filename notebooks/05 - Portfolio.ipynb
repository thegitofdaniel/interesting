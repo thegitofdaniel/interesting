{
 "cells": [
  {
   "cell_type": "markdown",
   "metadata": {},
   "source": [
    "# Setup"
   ]
  },
  {
   "cell_type": "code",
   "execution_count": null,
   "metadata": {},
   "outputs": [],
   "source": [
    "%load_ext autoreload\n",
    "%autoreload 2\n",
    "\n",
    "import sys\n",
    "\n",
    "sys.path.append('../src/')"
   ]
  },
  {
   "cell_type": "markdown",
   "metadata": {},
   "source": [
    "# Cashflows\n",
    "\n",
    "## Import Packages"
   ]
  },
  {
   "cell_type": "code",
   "execution_count": null,
   "metadata": {},
   "outputs": [],
   "source": [
    "import pandas as pd\n",
    "from interesting.interest import CompoundInterestRate\n",
    "from interesting.portfolio import Portfolio"
   ]
  },
  {
   "cell_type": "markdown",
   "metadata": {},
   "source": [
    "## Build a Cashflow"
   ]
  },
  {
   "cell_type": "code",
   "execution_count": null,
   "metadata": {},
   "outputs": [],
   "source": [
    "\n",
    "from interesting.bonds import NTNB, NominalBond, RealBond\n",
    "\n",
    "database = pd.read_csv('../src/data/br/fakebonds.csv')\n",
    "\n",
    "real_pf = Portfolio()\n",
    "nominal_pf = Portfolio()\n",
    "ntnb_pf = Portfolio()\n",
    "inflation = CompoundInterestRate(value=0.040, freq=\"Y\")\n",
    "\n",
    "for i in range(database.shape[0]):\n",
    "\n",
    "    initial_capital_pmt = -float(database.iloc[i]['initial_value'].replace(\",\",\"\"))\n",
    "    start_date = pd.to_datetime(database.iloc[i]['start_date'])\n",
    "    end_date = pd.to_datetime(database.iloc[i]['end_date'])\n",
    "    name=database.iloc[i]['issuer']\n",
    "    species=database.iloc[i]['species']\n",
    "    issuer=database.iloc[i]['issuer']\n",
    "    interest = CompoundInterestRate(value=float(database.iloc[i]['nominal_rate'].replace(\"%\",\"\"))/100, freq=\"Y\")\n",
    "    freq = database.iloc[i]['freq']\n",
    "    index_name = database.iloc[i]['index_name']\n",
    "\n",
    "    if species==\"ntnb\":\n",
    "        ntnb_bond = NTNB(start_date=start_date, end_date=end_date, interest=interest, inflation=inflation, initial_capital_pmt=initial_capital_pmt)\n",
    "        ntnb_pf = ntnb_pf.add_bond(ntnb_bond)\n",
    "    elif index_name!=\"ipca\":\n",
    "        nominal_bond = NominalBond(name=name, species=species, issuer=issuer, freq=freq, start_date=start_date, end_date=end_date, interest=interest, initial_capital_pmt=initial_capital_pmt)\n",
    "        nominal_pf = nominal_pf.add_bond(nominal_bond)\n",
    "    else:\n",
    "        real_bond = RealBond(name=name, species=species, issuer=issuer, freq=freq, start_date=start_date, end_date=end_date, interest=interest, initial_capital_pmt=initial_capital_pmt, inflation=inflation, index_name=\"ipca\")\n",
    "        real_pf = real_pf.add_bond(real_bond)"
   ]
  },
  {
   "cell_type": "code",
   "execution_count": null,
   "metadata": {},
   "outputs": [],
   "source": [
    "portfolio = real_pf + nominal_pf + ntnb_pf\n",
    "\n",
    "target = \"brutto\"\n",
    "portfolio.plot_target_by_property(target=target, property=\"year\", graph=\"bar\")\n",
    "portfolio.plot_target_by_property(target=target, property=\"species\", graph=\"pie\")\n",
    "portfolio.plot_target_by_property(target=target, property=\"issuer\", graph=\"pie\")\n",
    "portfolio.plot_target_by_property(target=target, property=\"is_nominal\", graph=\"pie\")"
   ]
  },
  {
   "cell_type": "code",
   "execution_count": null,
   "metadata": {},
   "outputs": [],
   "source": [
    "portfolio.plot_fgc_risk(target=\"brutto\")"
   ]
  },
  {
   "cell_type": "code",
   "execution_count": null,
   "metadata": {},
   "outputs": [],
   "source": [
    "portfolio.plot_issuer_by_year(target=\"brutto\", issuer=\"master\")"
   ]
  },
  {
   "cell_type": "code",
   "execution_count": null,
   "metadata": {},
   "outputs": [],
   "source": [
    "total_df = portfolio.total_cashflow.data\n",
    "total_df[\"year\"]=total_df.index.year\n",
    "total_df = total_df.groupby([\"year\"]).sum()\n",
    "total_df"
   ]
  },
  {
   "cell_type": "code",
   "execution_count": null,
   "metadata": {},
   "outputs": [],
   "source": [
    "import matplotlib.pyplot as plt\n",
    "\n",
    "\n",
    "def plot_bars(data, target=\"brutto\"):\n",
    "    categories = data.index\n",
    "    values = data[target].cumsum()\n",
    "\n",
    "    fig, ax = plt.subplots(figsize=(18, 12))\n",
    "    plt.bar(categories, values)\n",
    "\n",
    "    for c, v in zip(categories, values):\n",
    "        text = f'{v:,.0f}'\n",
    "        plt.text(c, v + 0.5, text, ha='center', rotation = 45)\n",
    "        \n",
    "    plt.show()"
   ]
  },
  {
   "cell_type": "code",
   "execution_count": null,
   "metadata": {},
   "outputs": [],
   "source": [
    "import numpy as np\n",
    "\n",
    "data = total_df[total_df.index>2024]\n",
    "\n",
    "matrix_size = len(data.brutto)\n",
    "\n",
    "matrix = np.zeros((matrix_size, matrix_size))\n",
    "\n",
    "for col_idx in range(matrix_size):\n",
    "    for row_idx in range(matrix_size):\n",
    "        if row_idx > col_idx:\n",
    "            matrix[row_idx, col_idx] = row_idx - col_idx\n",
    "        else:\n",
    "            matrix[row_idx, col_idx] = 0\n",
    "\n",
    "matrix = (1.08)**matrix\n",
    "\n",
    "for col_idx in range(matrix_size):\n",
    "    for row_idx in range(matrix_size):\n",
    "        if row_idx < col_idx:\n",
    "            matrix[row_idx, col_idx] = 0\n",
    "\n",
    "matrix"
   ]
  },
  {
   "cell_type": "code",
   "execution_count": null,
   "metadata": {},
   "outputs": [],
   "source": [
    "portfolio_brutto_value = pd.DataFrame(data.brutto.values * matrix).sum(axis=1).values\n",
    "total_reinvested_df = pd.DataFrame(portfolio_brutto_value)\n",
    "total_reinvested_df.index=data.index\n",
    "total_reinvested_df.columns=[\"brutto\"]\n",
    "total_reinvested_df[\"deflator\"] = [1.04**(i) for i in range(len(total_reinvested_df))]\n",
    "total_reinvested_df[\"brutto_deflated\"] = total_reinvested_df[\"brutto\"]/total_reinvested_df[\"deflator\"]\n",
    "total_reinvested_df[\"brutto_deflated\"] = total_reinvested_df[\"brutto\"]/total_reinvested_df[\"deflator\"]\n",
    "total_reinvested_df[\"brutto_deflated_euro\"] = total_reinvested_df[\"brutto_deflated\"]/5.5\n",
    "\n",
    "plot_bars(total_reinvested_df, target=\"brutto_deflated_euro\")"
   ]
  },
  {
   "cell_type": "code",
   "execution_count": null,
   "metadata": {},
   "outputs": [],
   "source": [
    "total_reinvested_df[\"brutto_deflated_euro\"].diff().plot()"
   ]
  }
 ],
 "metadata": {
  "kernelspec": {
   "displayname": "Python 3",
   "language": "python",
   "name": "python3"
  },
  "language_info": {
   "codemirror_mode": {
    "name": "ipython",
    "version": 3
   },
   "file_extension": ".py",
   "mimetype": "text/x-python",
   "name": "python",
   "nbconvert_exporter": "python",
   "pygments_lexer": "ipython3",
   "version": "3.12.2"
  }
 },
 "nbformat": 4,
 "nbformat_minor": 2
}
