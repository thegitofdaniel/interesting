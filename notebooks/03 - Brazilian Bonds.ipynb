{
 "cells": [
  {
   "cell_type": "markdown",
   "metadata": {},
   "source": [
    "# Setup"
   ]
  },
  {
   "cell_type": "code",
   "execution_count": null,
   "metadata": {},
   "outputs": [],
   "source": [
    "%load_ext autoreload\n",
    "%autoreload 2\n",
    "\n",
    "import sys\n",
    "\n",
    "sys.path.append('../src/')"
   ]
  },
  {
   "cell_type": "markdown",
   "metadata": {},
   "source": [
    "# Brazilian Bonds\n",
    "Cashflows that model Brazilian Bonds\n",
    "\n",
    "## Import Packages"
   ]
  },
  {
   "cell_type": "code",
   "execution_count": null,
   "metadata": {},
   "outputs": [],
   "source": [
    "from interesting.bonds import LTN, NTNB\n",
    "from interesting.interest import YearlyCompoundInterestRate"
   ]
  },
  {
   "cell_type": "markdown",
   "metadata": {},
   "source": [
    "## Brazilian Public Bonds"
   ]
  },
  {
   "cell_type": "code",
   "execution_count": null,
   "metadata": {},
   "outputs": [],
   "source": [
    "# CDB with final pmt\n",
    "\n",
    "start_date = '2023-07-12'\n",
    "end_date = '2045-01-02'\n",
    "initial_capital_pmt = 1000.0\n",
    "interest = YearlyCompoundInterestRate(0.058)\n",
    "inflation = YearlyCompoundInterestRate(0.040)\n",
    "\n",
    "ntnb = NTNB(start_date=start_date, end_date=end_date, interest=interest, inflation=inflation, initial_capital_pmt=initial_capital_pmt)\n",
    "ntnb.data"
   ]
  },
  {
   "cell_type": "code",
   "execution_count": null,
   "metadata": {},
   "outputs": [],
   "source": [
    "# LTN\n",
    "\n",
    "start_date = '2023-07-12'\n",
    "end_date = '2025-01-02'\n",
    "initial_capital_pmt = 1000\n",
    "interest = YearlyCompoundInterestRate(0.12)\n",
    "\n",
    "ltn = LTN(start_date=start_date, end_date=end_date, interest=interest, initial_capital_pmt=initial_capital_pmt)\n",
    "ltn.data"
   ]
  },
  {
   "cell_type": "code",
   "execution_count": null,
   "metadata": {},
   "outputs": [],
   "source": [
    "interest = YearlyCompoundInterestRate(0.04)\n",
    "\n",
    "ltn.tax()\n",
    "ltn.deflate_from_constant(target=\"netto\", constant=0.04)\n",
    "ltn.agg_to_freq(\"YE\")\n",
    "ltn.discount_from_constant_rate(target=\"netto_deflated\", interest=interest)\n",
    "ltn.data"
   ]
  }
 ],
 "metadata": {
  "kernelspec": {
   "displayname": "Python 3",
   "language": "python",
   "name": "python3"
  },
  "language_info": {
   "codemirror_mode": {
    "name": "ipython",
    "version": 3
   },
   "file_extension": ".py",
   "mimetype": "text/x-python",
   "name": "python",
   "nbconvert_exporter": "python",
   "pygments_lexer": "ipython3",
   "version": "3.12.1"
  }
 },
 "nbformat": 4,
 "nbformat_minor": 2
}
